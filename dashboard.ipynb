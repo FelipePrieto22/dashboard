{
 "cells": [
  {
   "cell_type": "markdown",
   "metadata": {},
   "source": [
    "# Enunciado"
   ]
  },
  {
   "cell_type": "code",
   "execution_count": null,
   "metadata": {},
   "outputs": [],
   "source": [
    "%matplotlib inline\n",
    "%matplotlib widget\n",
    "import matplotlib.pyplot as plt\n",
    "import pandas as pd\n",
    "import ipywidgets as widgets\n",
    "import numpy as np"
   ]
  },
  {
   "cell_type": "markdown",
   "metadata": {},
   "source": [
    "## Preparación de datos (1.0pt)"
   ]
  },
  {
   "cell_type": "markdown",
   "metadata": {},
   "source": [
    "Explore el archivo `covid19_confirmados.csv` y utilice la función `pd.read_csv` para importarlo como un `DataFrame` considerando las siguientes indicaciones:\n",
    "\n",
    "1. Utilice el nombre de país como índice.\n",
    "1. Elimine las columnas `Lat` y `Long`.\n",
    "1. Use TimeStamps para las columnas asociadas a fechas.\n",
    "1. Reduzca la columna `Province/State`. El DataFrame resultante debe tener los totales a nivel país."
   ]
  },
  {
   "cell_type": "code",
   "execution_count": null,
   "metadata": {},
   "outputs": [],
   "source": [
    "def crea_dataframe(data): #data -> ruta del archivo\n",
    "    #creacion dataframe, elimina columnas Lat y Long \n",
    "    df = pd.read_csv(data,index_col=\"Country/Region\",parse_dates=True).drop([\"Lat\",\"Long\"],axis=1)\n",
    "\n",
    "    #reduce la columna province/state con un groupby manteniendo los totales por pais\n",
    "    df = df.groupby(level=0).sum(numeric_only=True)\n",
    "\n",
    "    #parsear fechas\n",
    "    fechas = []\n",
    "    for i in df.columns:\n",
    "        fechas.append(pd.to_datetime(i)) #añade a una lista la transformacion a timestamp de cada fecha\n",
    "    df.columns = fechas #asigna a columnas la lista de fechas parseadas a timestamp\n",
    "\n",
    "    return df\n",
    "        "
   ]
  },
  {
   "cell_type": "code",
   "execution_count": null,
   "metadata": {},
   "outputs": [],
   "source": [
    "df_confirmados = crea_dataframe(\"data/covid19_confirmados.csv\") #creacion del df\n",
    "df_confirmados"
   ]
  },
  {
   "cell_type": "markdown",
   "metadata": {},
   "source": [
    "Explore el archivo `population_by_country_2020.csv` y utilice la función `pd.read_csv` de pandas para importarlo como un `DataFrame`. Utilice el nombre de país como índice principal. \n",
    "\n",
    "Nota: Algunos siglas o nombres podrían no calzar con el `DataFrame` anterior, explore y corrija programaticamente dichos errores."
   ]
  },
  {
   "cell_type": "code",
   "execution_count": null,
   "metadata": {},
   "outputs": [],
   "source": [
    "df_population = pd.read_csv(\"data/poblacion_mundial2020.csv\") #dataframe de population\n",
    "df_population.rename(columns={\"Country (or dependency)\":\"Country/Region\"}, inplace=True) #Cambio del nombre de el indice de la columna\n",
    "df_population.set_index(\"Country/Region\",inplace=True) #asignacion de \"nuevo\" nombre"
   ]
  },
  {
   "cell_type": "markdown",
   "metadata": {},
   "source": [
    "Realice un `merge` de los `DataFrame` anteriores. El objetivo es asignar un valor de `Population` a cada elemento del primer `DataFrame`. Indique las filas donde no se puede realizar el `merge` y luego descártelas de su `DataFrame` final."
   ]
  },
  {
   "cell_type": "code",
   "execution_count": null,
   "metadata": {},
   "outputs": [],
   "source": [
    "def eliminar_error(df,df_population):\n",
    "    valores_error = []\n",
    "    for pais in df.index:\n",
    "        if pais not in df_population.index:\n",
    "            valores_error.append(pais)\n",
    "            df.drop(labels=pais, axis=0, inplace=True)\n",
    "    # display(\"Los siguientes datos NO se encuentran en population: \",valores_error) #descomentar esta linea para verificar los paises con errores"
   ]
  },
  {
   "cell_type": "code",
   "execution_count": null,
   "metadata": {},
   "outputs": [],
   "source": [
    "error = ['Antarctica', #no existen datos en poblacion_mundial\n",
    " 'Burma', #el nombre es Myanmar en poblacion_mundial\n",
    " 'Congo (Brazzaville)', #pais de africa central: Congo -> conocido como Congo brazzaville\n",
    " 'Congo (Kinshasa)', #nombre R.D Congo\n",
    " \"Cote d'Ivoire\", #error semantico Côte d'Ivoire, cambiar a Cote d'Ivoire\n",
    " 'Czechia', #diferente nombre (Czech Republic (Czechia)) cambiar a Czechia\n",
    " 'Diamond Princess', #no es un pais?\n",
    " 'Korea, South', #correccion a South Korea\n",
    " 'Kosovo', #no existen datos en poblacion_mundial\n",
    " 'MS Zaandam', #no es un pais?\n",
    " 'Saint Kitts and Nevis', #error semantico en poblacion mundial el and estaba representado por un &\n",
    " 'Saint Vincent and the Grenadines', #cambio de nombre St. Vincent & Grenadines -> Saint Vincent and the Grenadines\n",
    " 'Sao Tome and Principe', #Sao Tome & Principe cambiar el & por and\n",
    " 'Summer Olympics 2020', #no es pais\n",
    " 'Taiwan*', #correccion del simbolo *\n",
    " 'US', #cambio en archivos covid19_  a united states \n",
    " 'West Bank and Gaza', #no existen datos en poblacion mundial\n",
    " 'Winter Olympics 2022'] #no es un pais"
   ]
  },
  {
   "cell_type": "code",
   "execution_count": null,
   "metadata": {},
   "outputs": [],
   "source": [
    "eliminar_error(df_confirmados,df_population)\n",
    "df_confirmados = pd.merge(df_confirmados,df_population, on=\"Country/Region\")\n",
    "display(df_confirmados)\n"
   ]
  },
  {
   "cell_type": "markdown",
   "metadata": {},
   "source": [
    "Repita el procedimiento para los archivos `covid19_recuperados.csv` y `covid19_muertes.csv`."
   ]
  },
  {
   "cell_type": "code",
   "execution_count": null,
   "metadata": {},
   "outputs": [],
   "source": [
    "#creacion de siguientes dataframe y merge con population\n",
    "df_recuperados = crea_dataframe(\"data/covid19_recuperados.csv\") #creacion del df\n",
    "eliminar_error(df_recuperados,df_population)\n",
    "df_recuperados = pd.merge(df_recuperados,df_population, on=\"Country/Region\") #merge\n",
    "\n",
    "df_muertes = crea_dataframe(\"data/covid19_muertes.csv\") #creacion del df\n",
    "eliminar_error(df_muertes,df_population)\n",
    "df_muertes = pd.merge(df_muertes,df_population, on=\"Country/Region\") #merge\n",
    "\n",
    "display(df_recuperados)\n",
    "display(df_muertes)"
   ]
  },
  {
   "cell_type": "markdown",
   "metadata": {},
   "source": [
    "## Análisis global (1.5pt)\n",
    "\n",
    "Escriba una función que reciba una fecha y que retorne las siguientes series: \n",
    "\n",
    "1. Tasa de incidencia: Casos confirmados por 100.000 dividido población total.\n",
    "1. Tasa de recuperación: Casos recuperados por 100.000 dividido población total.\n",
    "1. Tasa de mortalidad: Casos decesos por 100.000 dividido población total."
   ]
  },
  {
   "cell_type": "markdown",
   "metadata": {},
   "source": [
    "Ahora, considerando los siguientes dos puntos temporales:\n",
    "\n",
    "- 22 de Enero de 2021.\n",
    "- 22 de Enero de 2022.\n",
    "\n",
    "Muestre los nombres y los valores de los 3 países con:\n",
    "\n",
    "1. La mayor y menor tasa de incidencia, respectivamente.\n",
    "1. La mayor y menor tasa de recuperación, respectivamente.\n",
    "1. La mayor y menor tasa de mortalidad, respectivamente.\n",
    "\n",
    "Muestre también la posición de Chile en el ranking."
   ]
  },
  {
   "cell_type": "code",
   "execution_count": null,
   "metadata": {},
   "outputs": [],
   "source": [
    "def series_fecha(fecha):\n",
    "    tasa_incidencia = (df_confirmados[fecha]*100000)/df_confirmados[\"Population (2020)\"]\n",
    "    tasa_recuperacion = (df_recuperados[fecha]*100000)/df_recuperados[\"Population (2020)\"]\n",
    "    tasa_mortalidad = (df_muertes[fecha]*100000)/df_muertes[\"Population (2020)\"]\n",
    "\n",
    "    dicc_series = {\"tasa incidencias\":tasa_incidencia,\n",
    "                    \"tasa recuperacion\": tasa_recuperacion,\n",
    "                    \"tasa mortalidad\": tasa_mortalidad\n",
    "                    }\n",
    "    return dicc_series\n"
   ]
  },
  {
   "cell_type": "code",
   "execution_count": null,
   "metadata": {},
   "outputs": [],
   "source": [
    "#analsis de fechas 22 de Enero de 2021 y 22 de Enero de 2022\n",
    "fecha1 = series_fecha(pd.to_datetime(\"2021-01-22\"))\n",
    "fecha2 = series_fecha(pd.to_datetime(\"2022-01-22\"))\n",
    "\n",
    "# display(fecha1[\"tasa mortalidad\"]) #acceder a los datos especificos del diccionario"
   ]
  },
  {
   "cell_type": "code",
   "execution_count": null,
   "metadata": {},
   "outputs": [],
   "source": [
    "def serie_min_max(df,tipo):\n",
    "    #mayor\n",
    "    df_max = (pd.DataFrame(df[tipo]).set_axis([tipo],axis=1).sort_values(tipo,ascending=False)).head(3)\n",
    "    df_max.insert(1,\"rank\",df_max.rank(ascending=False))\n",
    "    \n",
    "    chile1 = (pd.DataFrame(df[tipo]).set_axis([tipo],axis=1).sort_values(tipo,ascending=False))\n",
    "    chile1.insert(1,\"rank\",chile1.rank(ascending=False))\n",
    "\n",
    "    #menor\n",
    "    df_min = (pd.DataFrame(df[tipo]).set_axis([tipo],axis=1).sort_values(tipo,ascending=True)).head(3)\n",
    "    df_min.insert(1,\"rank\",df_min.rank(ascending=True))\n",
    "\n",
    "    display(df_max,pd.DataFrame(chile1.loc[\"Chile\"]),df_min)\n",
    "    print()"
   ]
  },
  {
   "cell_type": "code",
   "execution_count": null,
   "metadata": {},
   "outputs": [],
   "source": [
    "# display(\"La mayor y menor tasa de incidencia, respectivamente.\")\n",
    "# print(\"fecha 1:\")\n",
    "# serie_min_max(fecha1,\"tasa incidencias\")\n",
    "# print(\"fecha 2: \")\n",
    "# serie_min_max(fecha2,\"tasa incidencias\")\n",
    "\n",
    "# display(\"La mayor y menor tasa de recuperación, respectivamente.\")\n",
    "# print(\"fecha 1: \")\n",
    "# serie_min_max(fecha1,\"tasa recuperacion\")\n",
    "# print(\"fecha 2: \")\n",
    "# serie_min_max(fecha2,\"tasa recuperacion\")\n",
    "\n",
    "# display(\"La mayor y menor tasa de mortalidad, respectivamente.\")\n",
    "# print(\"fecha 1: \")\n",
    "# serie_min_max(fecha1,\"tasa mortalidad\")\n",
    "# print(\"fecha 2: \")\n",
    "# serie_min_max(fecha2,\"tasa mortalidad\")\n"
   ]
  },
  {
   "cell_type": "markdown",
   "metadata": {},
   "source": [
    "#"
   ]
  },
  {
   "cell_type": "markdown",
   "metadata": {},
   "source": [
    "Ahora realice las siguientes gráficas de nube de punto\n",
    "\n",
    "- Tasa de incidencia Enero 2021 versus Tasa de incidencia Enero 2022.\n",
    "- Tasa de mortalidad Enero 2021 versus Tasa de incidencia Enero 2022.\n",
    "\n",
    "En cada una:\n",
    "\n",
    "- Utilice color para demarcar el [continente](https://www.kaggle.com/datasets/statchaitya/country-to-continent) de cada país.\n",
    "- Realice una anotación con el código del pais cercano a su punto: https://country-code.cl/es/.\n",
    "- Utilice un tamaño relativamente más grande para Chile.\n",
    "- Considere las buenas prácticas vistas en clases."
   ]
  },
  {
   "cell_type": "code",
   "execution_count": null,
   "metadata": {},
   "outputs": [],
   "source": [
    "#Continentes y codigo ISO2 archivo generado con chatgpt\n",
    "continentes = pd.read_csv(\"data/pais_cod_continente.csv\",index_col=\"Country/Region\")\n",
    "\n",
    "df_confirmados = pd.merge(df_confirmados,continentes,on=\"Country/Region\")\n",
    "df_recuperados = pd.merge(df_recuperados,continentes,on=\"Country/Region\")\n",
    "df_muertes = pd.merge(df_muertes,continentes,on=\"Country/Region\")\n",
    "\n",
    "# display(continentes)"
   ]
  },
  {
   "cell_type": "code",
   "execution_count": null,
   "metadata": {},
   "outputs": [],
   "source": [
    "#Verificacion de la informacion de los dataframe\n",
    "# display(df_confirmados)\n",
    "# display(df_recuperados)\n",
    "# display(df_muertes)"
   ]
  },
  {
   "cell_type": "code",
   "execution_count": null,
   "metadata": {},
   "outputs": [],
   "source": [
    "#nube de puntos\n",
    "\n",
    "############################################## LISTO ##############################################\n",
    "def nube_puntos(df1,df2,t1,t2):\n",
    "    df_1 = df1.copy()\n",
    "    df_2 = df2.copy()\n",
    "\n",
    "    df_1.reset_index(level=0, inplace=True)\n",
    "    df_1.set_index([\"Continent\",\"Country/Region\"],inplace=True,drop=True)\n",
    "    df_2.reset_index(level=0, inplace=True)\n",
    "    df_2.set_index([\"Continent\",\"Country/Region\"],inplace=True,drop=True)\n",
    "\n",
    "    df_c1 = df_1.copy()\n",
    "    df_c2 = df_2.copy()\n",
    "\n",
    "    continentes_lista = {\"South America\":\"blue\",\n",
    "                        \"North America\":\"Red\",\n",
    "                        \"Africa\":\"Green\",\n",
    "                        \"Europe\":\"Grey\",\n",
    "                        \"Asia\":\"magenta\",\n",
    "                        \"Oceania\":\"orange\"}\n",
    "\n",
    "    fig, ax = plt.subplots(figsize=(14, 8), \n",
    "                       sharex=False, sharey=False, tight_layout=True)\n",
    "\n",
    "    for i, etiqueta in enumerate(continentes_lista):\n",
    "        # display(i,continentes_lista[etiqueta],etiqueta)\n",
    "        \n",
    "        #Calculo de tasas \n",
    "        df_c1.loc[etiqueta,[pd.to_datetime(\"2021-01-22\")]] = (df_1[pd.to_datetime(\"2021-01-22\")]*100000)/df_1[\"Population (2020)\"]\n",
    "        df_c2.loc[etiqueta, [pd.to_datetime(\"2022-01-22\")]] = (df_2[pd.to_datetime(\"2022-01-22\")]*100000)/df_2[\"Population (2020)\"]\n",
    "        \n",
    "        ax.scatter(x=df_c1[pd.to_datetime(\"2021-01-22\")].loc[etiqueta],\n",
    "                   y= df_c2[pd.to_datetime(\"2022-01-22\")].loc[etiqueta],\n",
    "                   s=30,marker='o',color=continentes_lista[etiqueta],label=etiqueta)\n",
    "        \n",
    "        if(etiqueta == \"South America\"):\n",
    "            ax.scatter(x=df_c1[pd.to_datetime(\"2021-01-22\")].loc[(\"South America\",\"Chile\")],\n",
    "                       y= df_c2[pd.to_datetime(\"2022-01-22\")].loc[(\"South America\",\"Chile\")],\n",
    "                       s=150,marker='*',color=\"BLACK\",label=\"Chile\")\n",
    "        ax.set_title(t1+\" vs \"+t2)\n",
    "        ax.set_xlabel(t1)\n",
    "        ax.set_ylabel(t2)\n",
    "\n",
    "    #Etiqueta a cada elemento\n",
    "    for i in df_c1.index:\n",
    "        ax.annotate(df_c1.loc[(i[0],i[1]),\"ISO2\"], \n",
    "                    xy=(df_c1[pd.to_datetime(\"2021-01-22\")].loc[(i[0],i[1])],\n",
    "                        df_c2[pd.to_datetime(\"2022-01-22\")].loc[(i[0],i[1])]));\n",
    "        \n",
    " \n",
    "    ax.legend()\n",
    "        \n",
    "\n",
    "# nube_puntos(df_confirmados,df_confirmados,\"Tasa incidencias 2021\",\"Tasa incidencias 2022\")\n",
    "# nube_puntos(df_muertes,df_confirmados,\"Tasa mortalidad 2021\",\"Tasa incidencias 2022\")\n"
   ]
  },
  {
   "cell_type": "markdown",
   "metadata": {},
   "source": [
    "En base a los rankings y gráficas de nube de punto analice y discuta sobre el caso de Chile considerando las siguientes preguntas guía:\n",
    "\n",
    "- ¿A qué países del mundo se parece más?\n",
    "- ¿A qué países de América Latina se parece más?\n",
    "- ¿A qué países de la [OCDE](https://es.wikipedia.org/wiki/Organizaci%C3%B3n_para_la_Cooperaci%C3%B3n_y_el_Desarrollo_Econ%C3%B3micos) se parece más? \n"
   ]
  },
  {
   "cell_type": "markdown",
   "metadata": {},
   "source": [
    "1-\n",
    "2-\n",
    "3-\n"
   ]
  },
  {
   "cell_type": "markdown",
   "metadata": {},
   "source": [
    "## Análisis comparativo (1.5pt)\n",
    "\n",
    "Construya una interfaz gráfica usando `ipywidgets` y `matplotlib` que permita realizar comparaciones entre las series de tiempo de COVID-19 de dos países seleccionados arbitrariamente. A modo de simplificación considere sólo los países de la [OCDE](https://es.wikipedia.org/wiki/Organizaci%C3%B3n_para_la_Cooperaci%C3%B3n_y_el_Desarrollo_Econ%C3%B3micos). \n",
    "\n",
    "Requerimientos:\n",
    "\n",
    "1. La interfaz debe incluir controles para escoger dos países a partir de una lista.\n",
    "1. La interfaz debe incluir tres [tabs](https://ipywidgets.readthedocs.io/en/latest/examples/Widget%20List.html#Tabs), el primero debe mostrar las series de tiempo de ambos países de los casos confirmados, el segundo la de recuperados y el tercero la de los decesos, respectivamente. Use una leyenda para indicar el nombre de los países.\n",
    "1. La interfaz debe tener un control que permita escoger entre casos acumulados y casos nuevos. Hint: Para los casos nuevos pueden revisar la función [`diff`](https://pandas.pydata.org/pandas-docs/stable/reference/api/pandas.Series.diff.html).\n",
    "1. La interfaz debe tener un control que permita escoger entre valores absolutos y valores relativos (tasas por 100.000 habitantes).\n",
    "1. La interfaz debe tener un control que permita escoger entre valores diarios y valores semanales. Para esto último se recomienda usar `groupby` con una [frecuencia lunes a lunes](https://pandas.pydata.org/pandas-docs/stable/user_guide/timeseries.html#anchored-offsets).\n",
    "    \n",
    "\n"
   ]
  },
  {
   "cell_type": "code",
   "execution_count": null,
   "metadata": {},
   "outputs": [],
   "source": [
    "#dataframe de paises OCDE -> datos obtenidos con chatgpt\n",
    "df_OCDE_confirmados = pd.read_csv(\"data/paises_OCDE.csv\",index_col=\"Country/Region\")\n",
    "df_OCDE_confirmados = pd.merge(df_confirmados,df_OCDE_confirmados,on=\"Country/Region\")\n",
    "\n",
    "df_OCDE_recuperados= pd.read_csv(\"data/paises_OCDE.csv\",index_col=\"Country/Region\")\n",
    "df_OCDE_recuperados = pd.merge(df_recuperados,df_OCDE_recuperados,on=\"Country/Region\")\n",
    "\n",
    "df_OCDE_muertes = pd.read_csv(\"data/paises_OCDE.csv\",index_col=\"Country/Region\")\n",
    "df_OCDE_muertes = pd.merge(df_muertes,df_OCDE_muertes,on=\"Country/Region\")\n",
    "\n",
    "# display(df_OCDE_confirmados)\n",
    "# display(df_OCDE_recuperados)\n",
    "# display(df_OCDE_muertes)"
   ]
  },
  {
   "cell_type": "code",
   "execution_count": null,
   "metadata": {},
   "outputs": [],
   "source": [
    "dataframes_OCDE = {0: df_OCDE_confirmados,\n",
    "                   1: df_OCDE_recuperados,\n",
    "                   2: df_OCDE_muertes} #ayuda a acceder al df de forma mas facil\n",
    "plt.ioff()\n",
    "####################################### Filtros #############################################\n",
    "\n",
    "def filtro1(df): #casos nuevos o casos acumulados\n",
    "    if(selector_casos.value == \"Casos nuevos\"):\n",
    "        return df.diff(axis=1).clip(lower=0) # diff() calcula la diferencia entre filas (o columnas) adyacentes axis = 0 -> filas axis = 1 columnas\n",
    "        #clip() limita los valores de una columna a un rango específico.  \n",
    "        #En este caso, se puede establecer el rango mínimo en cero para eliminar los valores negativos.\n",
    "        #los valores negativos son dados debido a falla en los datos si fecha1 x-1 y fecha2 x al hacer la diferencia para obtener nuevos\n",
    "        #casos fecha2 - fecha1 el resultado da negativo\n",
    "    elif(selector_casos.value == \"Casos acumulados\"):\n",
    "        return df\n",
    "    else:\n",
    "        return df\n",
    "\n",
    "def filtro2(df):\n",
    "    if(selector_valores.value == \"Valores absolutos\"):\n",
    "        df.loc[pais1.value]  = df.loc[pais1.value][:810]*100000/df_OCDE_confirmados.loc[pais1.value][\"Population (2020)\"]\n",
    "        df.loc[pais2.value] = df.loc[pais2.value][:810]*100000/df_OCDE_confirmados.loc[pais2.value][\"Population (2020)\"]\n",
    "\n",
    "        return df\n",
    "    elif(selector_valores.value == \"Valores relativos\"):\n",
    "        return df\n",
    "    else:\n",
    "        return df\n",
    "    \n",
    "def filtro3(df):\n",
    "    if(selector_fecha.value == \"Valores semanales\"):\n",
    "        fechas = pd.PeriodIndex(df.columns, freq=\"W-MON\", copy = bool).to_timestamp() #Genera un arreglo de tipo datetime con las fechas del dataframe(columnas)\n",
    "        #con frecuencia semanal con el dia lunes como dia inicial\n",
    "        df.columns = fechas\n",
    "        df.groupby(df.columns , axis=1).sum() #agrupar en una suma los valores de las fechas con el mismo nombre de columna(axis=1 es columnas)\n",
    "        \n",
    "        return df\n",
    "    elif(selector_fecha.value == \"Valores diarios\"):\n",
    "        return df\n",
    "    else:\n",
    "        return df\n",
    "\n",
    "def crear_grafico(num): #crea el grafico dentro de cada hijo de la tabla\n",
    "    if(pais1.value == None or pais2.value == None):\n",
    "        display(\"selecciona paises\")\n",
    "    elif(pais1.value == pais2.value):\n",
    "        display(\"selecciona paises distintos\")\n",
    "    else:\n",
    "        with tabla.children[num]:\n",
    "            if(selector_casos.value != None or selector_valores.value != None or selector_fecha.value != None):\n",
    "                df_OCDE_c = dataframes_OCDE[num].copy()\n",
    "\n",
    "                #Aplicacion de filtros\n",
    "                df_OCDE_c = filtro1(df_OCDE_c.iloc[:,: 810])\n",
    "\n",
    "                df_OCDE_c = filtro2(df_OCDE_c.iloc[:,: 810])\n",
    "\n",
    "                df_OCDE_c = filtro3(df_OCDE_c.iloc[:,: 810])\n",
    "                ####################################################\n",
    "\n",
    "                fig, ax = plt.subplots(figsize=(14, 8), tight_layout=True, facecolor='#EEF')\n",
    "                \n",
    "                line, = ax.plot(df_OCDE_c.loc[pais1.value, pd.to_datetime(\"2020-01-22\"): pd.to_datetime(\"2022-04-10\")],label=pais1.value)\n",
    "                line2, = ax.plot(df_OCDE_c.loc[pais2.value, pd.to_datetime(\"2020-01-22\"): pd.to_datetime(\"2022-04-10\")], label=pais2.value)\n",
    "                plt.legend()\n",
    "                ax.set_title(pais1.value+\" vs \"+pais2.value)\n",
    "                plt.show()\n",
    "            else:\n",
    "                fig, ax = plt.subplots(figsize=(14, 8), tight_layout=True, facecolor='#EEF')\n",
    "                \n",
    "                line, = ax.plot(dataframes_OCDE[num].loc[pais1.value, pd.to_datetime(\"2020-01-22\"): pd.to_datetime(\"2022-04-10\")],label=pais1.value)\n",
    "                line2, = ax.plot(dataframes_OCDE[num].loc[pais2.value, pd.to_datetime(\"2020-01-22\"): pd.to_datetime(\"2022-04-10\")], label=pais2.value)\n",
    "                plt.legend()\n",
    "                ax.set_title(pais1.value+\" vs \"+pais2.value)\n",
    "                plt.show()\n",
    "\n",
    "def boton_presionado(dato): #elimina el grafico actual y crea otro grafico con los nuevos valores\n",
    "    for i in range(0,3):\n",
    "        with tabla.children[i]:\n",
    "            tabla.children[i].clear_output()\n",
    "            crear_grafico(i)\n",
    "\n",
    "def r_filtros(data):\n",
    "    selector_casos.value = None\n",
    "    selector_valores.value = None\n",
    "    selector_fecha.value = None\n",
    "\n",
    "########################################## Creacion de botones y tabla ##########################################\n",
    "\n",
    "pais1 = widgets.Dropdown(value=None, options=df_OCDE_confirmados.index, description='Pais 1')\n",
    "pais2 = widgets.Dropdown(value=None, options=df_OCDE_confirmados.index, description='Pais 2')\n",
    "\n",
    "confirmar = widgets.Button(description='Confirmar')\n",
    "reiniciar_filtros = widgets.Button(description='Reiniciar filtros')\n",
    "\n",
    "selector_casos = widgets.RadioButtons(\n",
    "    options=['Casos acumulados', 'Casos nuevos'],\n",
    "    value=None,\n",
    "    disabled=False\n",
    ")\n",
    "\n",
    "selector_valores = widgets.RadioButtons(\n",
    "    options=['Valores absolutos', 'Valores relativos'],\n",
    "    value=None,\n",
    "    disabled=False\n",
    ")\n",
    "\n",
    "selector_fecha = widgets.RadioButtons(\n",
    "    options=['Valores diarios', 'Valores semanales'],\n",
    "    value=None,\n",
    "    disabled=False\n",
    ")\n",
    "\n",
    "datos_tabla = [\"Tasa incidencias\", \"Tasa recuperados\",\"Tasa mortalidad\"]\n",
    "tabla = widgets.Tab(children=[widgets.Output() for i in range(len(datos_tabla))])\n",
    "for i in range(len(datos_tabla)):\n",
    "    tabla.set_title(i,datos_tabla[i])\n",
    "\n",
    "output = widgets.Output()\n",
    "\n",
    "fila1 = widgets.HBox([pais1,pais2,output])\n",
    "fila_filtro = widgets.VBox([confirmar,reiniciar_filtros])\n",
    "fila2 = widgets.HBox([selector_casos,selector_valores,selector_fecha,fila_filtro])\n",
    "\n",
    "display(widgets.VBox([fila1, fila2,output]),tabla)\n",
    "\n",
    "#################################### Acciones con cada boton ####################################\n",
    "\n",
    "confirmar.on_click(boton_presionado) #asigna los filtros seleccionados a cada copia del dataframe\n",
    "reiniciar_filtros.on_click(r_filtros) #asigna none a los valores de los filtros\n"
   ]
  },
  {
   "attachments": {},
   "cell_type": "markdown",
   "metadata": {},
   "source": [
    "<p>En Australia en los casos confirmados la fecha 2022-01-30 tiene 2.607.242 casos y para la fecha 22-01-31 tiene 2.580.386 casos \n",
    "por lo tanto al hacer el diff entre la fecha2 - fecha 1 da -26.856 esto implica que la grafica se muestren datos negativos <p>"
   ]
  },
  {
   "cell_type": "markdown",
   "metadata": {},
   "source": [
    "## Dashboard interactivo (1.0pt)\n",
    "\n",
    "Implemente un *dashboard web* interactivo a partir de la interfaz desarrollada en el punto anterior utilizando la librería [voila](https://github.com/voila-dashboards/voila). Sirva su interfaz en la nube, para esto puede considerar los servicios gratuitos [binder](https://mybinder.org/) o [heroku](https://www.heroku.com/free). Revise la documentación de voila [con respecto a *deployment* en la nube](https://voila.readthedocs.io/en/stable/deploy.html) y este repositorio con [un ejemplo en base a heroku](https://github.com/voila-dashboards/voila-heroku). \n",
    "\n",
    "Escriba el link de su dashboard web a continuación:"
   ]
  },
  {
   "attachments": {},
   "cell_type": "markdown",
   "metadata": {},
   "source": [
    "https://mybinder.org/v2/gh/FelipePrieto22/dashboard/HEAD?urlpath=voila%2Frender%2Findex.ipynb"
   ]
  },
  {
   "cell_type": "markdown",
   "metadata": {},
   "source": [
    "## Discusión final (1.0pt)"
   ]
  },
  {
   "cell_type": "markdown",
   "metadata": {},
   "source": [
    "En base a su interfaz:   \n",
    "\n",
    "1. Describa en detalle la situación de Chile con respecto a la evolución temporal de las series de tiempo. Destaque patrones y comportamientos que considere relevantes. Compare lo que observa en las distintas series de tiempo. \n",
    "1. Considerando la evolución a nivel de semana, conteste ¿En qué fechas ocurre un aumento o disminución notoria de los casos? ¿En qué fechas hay máximos y mínimos?\n",
    "1. Considerando métricas que sean relativas compare el caso de Chile contra cinco países de la OCDE seleccionados por ustedes. Destaque semejanzas y diferencias considerando las cantidades y los posibles desfases temporales existentes."
   ]
  },
  {
   "cell_type": "code",
   "execution_count": null,
   "metadata": {},
   "outputs": [],
   "source": []
  }
 ],
 "metadata": {
  "kernelspec": {
   "display_name": "Python 3 (ipykernel)",
   "language": "python",
   "name": "python3"
  },
  "language_info": {
   "codemirror_mode": {
    "name": "ipython",
    "version": 3
   },
   "file_extension": ".py",
   "mimetype": "text/x-python",
   "name": "python",
   "nbconvert_exporter": "python",
   "pygments_lexer": "ipython3",
   "version": "3.10.4"
  },
  "toc": {
   "base_numbering": 1,
   "nav_menu": {},
   "number_sections": true,
   "sideBar": true,
   "skip_h1_title": false,
   "title_cell": "Table of Contents",
   "title_sidebar": "Contents",
   "toc_cell": false,
   "toc_position": {},
   "toc_section_display": true,
   "toc_window_display": false
  }
 },
 "nbformat": 4,
 "nbformat_minor": 2
}
